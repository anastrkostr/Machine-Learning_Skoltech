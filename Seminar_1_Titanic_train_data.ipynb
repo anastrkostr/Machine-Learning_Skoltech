{
 "cells": [
  {
   "cell_type": "code",
   "execution_count": 1,
   "id": "df63d5aa",
   "metadata": {},
   "outputs": [],
   "source": [
    "import pandas as pd\n",
    "import numpy as np \n",
    "from pandas import Series, DataFrame"
   ]
  },
  {
   "cell_type": "code",
   "execution_count": 2,
   "id": "335b54f7",
   "metadata": {},
   "outputs": [],
   "source": [
    "data = pd.read_csv('train.csv', index_col = \"PassengerId\")"
   ]
  },
  {
   "cell_type": "code",
   "execution_count": 3,
   "id": "c048ea7e",
   "metadata": {},
   "outputs": [
    {
     "data": {
      "text/html": [
       "<div>\n",
       "<style scoped>\n",
       "    .dataframe tbody tr th:only-of-type {\n",
       "        vertical-align: middle;\n",
       "    }\n",
       "\n",
       "    .dataframe tbody tr th {\n",
       "        vertical-align: top;\n",
       "    }\n",
       "\n",
       "    .dataframe thead th {\n",
       "        text-align: right;\n",
       "    }\n",
       "</style>\n",
       "<table border=\"1\" class=\"dataframe\">\n",
       "  <thead>\n",
       "    <tr style=\"text-align: right;\">\n",
       "      <th></th>\n",
       "      <th>Survived</th>\n",
       "      <th>Pclass</th>\n",
       "      <th>Name</th>\n",
       "      <th>Sex</th>\n",
       "      <th>Age</th>\n",
       "      <th>SibSp</th>\n",
       "      <th>Parch</th>\n",
       "      <th>Ticket</th>\n",
       "      <th>Fare</th>\n",
       "      <th>Cabin</th>\n",
       "      <th>Embarked</th>\n",
       "    </tr>\n",
       "    <tr>\n",
       "      <th>PassengerId</th>\n",
       "      <th></th>\n",
       "      <th></th>\n",
       "      <th></th>\n",
       "      <th></th>\n",
       "      <th></th>\n",
       "      <th></th>\n",
       "      <th></th>\n",
       "      <th></th>\n",
       "      <th></th>\n",
       "      <th></th>\n",
       "      <th></th>\n",
       "    </tr>\n",
       "  </thead>\n",
       "  <tbody>\n",
       "    <tr>\n",
       "      <th>1</th>\n",
       "      <td>0</td>\n",
       "      <td>3</td>\n",
       "      <td>Braund, Mr. Owen Harris</td>\n",
       "      <td>male</td>\n",
       "      <td>22.0</td>\n",
       "      <td>1</td>\n",
       "      <td>0</td>\n",
       "      <td>A/5 21171</td>\n",
       "      <td>7.2500</td>\n",
       "      <td>NaN</td>\n",
       "      <td>S</td>\n",
       "    </tr>\n",
       "    <tr>\n",
       "      <th>2</th>\n",
       "      <td>1</td>\n",
       "      <td>1</td>\n",
       "      <td>Cumings, Mrs. John Bradley (Florence Briggs Th...</td>\n",
       "      <td>female</td>\n",
       "      <td>38.0</td>\n",
       "      <td>1</td>\n",
       "      <td>0</td>\n",
       "      <td>PC 17599</td>\n",
       "      <td>71.2833</td>\n",
       "      <td>C85</td>\n",
       "      <td>C</td>\n",
       "    </tr>\n",
       "    <tr>\n",
       "      <th>3</th>\n",
       "      <td>1</td>\n",
       "      <td>3</td>\n",
       "      <td>Heikkinen, Miss. Laina</td>\n",
       "      <td>female</td>\n",
       "      <td>26.0</td>\n",
       "      <td>0</td>\n",
       "      <td>0</td>\n",
       "      <td>STON/O2. 3101282</td>\n",
       "      <td>7.9250</td>\n",
       "      <td>NaN</td>\n",
       "      <td>S</td>\n",
       "    </tr>\n",
       "    <tr>\n",
       "      <th>4</th>\n",
       "      <td>1</td>\n",
       "      <td>1</td>\n",
       "      <td>Futrelle, Mrs. Jacques Heath (Lily May Peel)</td>\n",
       "      <td>female</td>\n",
       "      <td>35.0</td>\n",
       "      <td>1</td>\n",
       "      <td>0</td>\n",
       "      <td>113803</td>\n",
       "      <td>53.1000</td>\n",
       "      <td>C123</td>\n",
       "      <td>S</td>\n",
       "    </tr>\n",
       "    <tr>\n",
       "      <th>5</th>\n",
       "      <td>0</td>\n",
       "      <td>3</td>\n",
       "      <td>Allen, Mr. William Henry</td>\n",
       "      <td>male</td>\n",
       "      <td>35.0</td>\n",
       "      <td>0</td>\n",
       "      <td>0</td>\n",
       "      <td>373450</td>\n",
       "      <td>8.0500</td>\n",
       "      <td>NaN</td>\n",
       "      <td>S</td>\n",
       "    </tr>\n",
       "  </tbody>\n",
       "</table>\n",
       "</div>"
      ],
      "text/plain": [
       "             Survived  Pclass  \\\n",
       "PassengerId                     \n",
       "1                   0       3   \n",
       "2                   1       1   \n",
       "3                   1       3   \n",
       "4                   1       1   \n",
       "5                   0       3   \n",
       "\n",
       "                                                          Name     Sex   Age  \\\n",
       "PassengerId                                                                    \n",
       "1                                      Braund, Mr. Owen Harris    male  22.0   \n",
       "2            Cumings, Mrs. John Bradley (Florence Briggs Th...  female  38.0   \n",
       "3                                       Heikkinen, Miss. Laina  female  26.0   \n",
       "4                 Futrelle, Mrs. Jacques Heath (Lily May Peel)  female  35.0   \n",
       "5                                     Allen, Mr. William Henry    male  35.0   \n",
       "\n",
       "             SibSp  Parch            Ticket     Fare Cabin Embarked  \n",
       "PassengerId                                                          \n",
       "1                1      0         A/5 21171   7.2500   NaN        S  \n",
       "2                1      0          PC 17599  71.2833   C85        C  \n",
       "3                0      0  STON/O2. 3101282   7.9250   NaN        S  \n",
       "4                1      0            113803  53.1000  C123        S  \n",
       "5                0      0            373450   8.0500   NaN        S  "
      ]
     },
     "execution_count": 3,
     "metadata": {},
     "output_type": "execute_result"
    }
   ],
   "source": [
    "data.head()"
   ]
  },
  {
   "cell_type": "markdown",
   "id": "cc8f93ce",
   "metadata": {},
   "source": [
    "# EDA\n"
   ]
  },
  {
   "cell_type": "code",
   "execution_count": 4,
   "id": "44165ed4",
   "metadata": {},
   "outputs": [
    {
     "data": {
      "text/html": [
       "<div>\n",
       "<style scoped>\n",
       "    .dataframe tbody tr th:only-of-type {\n",
       "        vertical-align: middle;\n",
       "    }\n",
       "\n",
       "    .dataframe tbody tr th {\n",
       "        vertical-align: top;\n",
       "    }\n",
       "\n",
       "    .dataframe thead th {\n",
       "        text-align: right;\n",
       "    }\n",
       "</style>\n",
       "<table border=\"1\" class=\"dataframe\">\n",
       "  <thead>\n",
       "    <tr style=\"text-align: right;\">\n",
       "      <th></th>\n",
       "      <th>Survived</th>\n",
       "      <th>Pclass</th>\n",
       "      <th>Age</th>\n",
       "      <th>SibSp</th>\n",
       "      <th>Parch</th>\n",
       "      <th>Fare</th>\n",
       "    </tr>\n",
       "  </thead>\n",
       "  <tbody>\n",
       "    <tr>\n",
       "      <th>count</th>\n",
       "      <td>891.000000</td>\n",
       "      <td>891.000000</td>\n",
       "      <td>714.000000</td>\n",
       "      <td>891.000000</td>\n",
       "      <td>891.000000</td>\n",
       "      <td>891.000000</td>\n",
       "    </tr>\n",
       "    <tr>\n",
       "      <th>mean</th>\n",
       "      <td>0.383838</td>\n",
       "      <td>2.308642</td>\n",
       "      <td>29.699118</td>\n",
       "      <td>0.523008</td>\n",
       "      <td>0.381594</td>\n",
       "      <td>32.204208</td>\n",
       "    </tr>\n",
       "    <tr>\n",
       "      <th>std</th>\n",
       "      <td>0.486592</td>\n",
       "      <td>0.836071</td>\n",
       "      <td>14.526497</td>\n",
       "      <td>1.102743</td>\n",
       "      <td>0.806057</td>\n",
       "      <td>49.693429</td>\n",
       "    </tr>\n",
       "    <tr>\n",
       "      <th>min</th>\n",
       "      <td>0.000000</td>\n",
       "      <td>1.000000</td>\n",
       "      <td>0.420000</td>\n",
       "      <td>0.000000</td>\n",
       "      <td>0.000000</td>\n",
       "      <td>0.000000</td>\n",
       "    </tr>\n",
       "    <tr>\n",
       "      <th>25%</th>\n",
       "      <td>0.000000</td>\n",
       "      <td>2.000000</td>\n",
       "      <td>20.125000</td>\n",
       "      <td>0.000000</td>\n",
       "      <td>0.000000</td>\n",
       "      <td>7.910400</td>\n",
       "    </tr>\n",
       "    <tr>\n",
       "      <th>50%</th>\n",
       "      <td>0.000000</td>\n",
       "      <td>3.000000</td>\n",
       "      <td>28.000000</td>\n",
       "      <td>0.000000</td>\n",
       "      <td>0.000000</td>\n",
       "      <td>14.454200</td>\n",
       "    </tr>\n",
       "    <tr>\n",
       "      <th>75%</th>\n",
       "      <td>1.000000</td>\n",
       "      <td>3.000000</td>\n",
       "      <td>38.000000</td>\n",
       "      <td>1.000000</td>\n",
       "      <td>0.000000</td>\n",
       "      <td>31.000000</td>\n",
       "    </tr>\n",
       "    <tr>\n",
       "      <th>max</th>\n",
       "      <td>1.000000</td>\n",
       "      <td>3.000000</td>\n",
       "      <td>80.000000</td>\n",
       "      <td>8.000000</td>\n",
       "      <td>6.000000</td>\n",
       "      <td>512.329200</td>\n",
       "    </tr>\n",
       "  </tbody>\n",
       "</table>\n",
       "</div>"
      ],
      "text/plain": [
       "         Survived      Pclass         Age       SibSp       Parch        Fare\n",
       "count  891.000000  891.000000  714.000000  891.000000  891.000000  891.000000\n",
       "mean     0.383838    2.308642   29.699118    0.523008    0.381594   32.204208\n",
       "std      0.486592    0.836071   14.526497    1.102743    0.806057   49.693429\n",
       "min      0.000000    1.000000    0.420000    0.000000    0.000000    0.000000\n",
       "25%      0.000000    2.000000   20.125000    0.000000    0.000000    7.910400\n",
       "50%      0.000000    3.000000   28.000000    0.000000    0.000000   14.454200\n",
       "75%      1.000000    3.000000   38.000000    1.000000    0.000000   31.000000\n",
       "max      1.000000    3.000000   80.000000    8.000000    6.000000  512.329200"
      ]
     },
     "execution_count": 4,
     "metadata": {},
     "output_type": "execute_result"
    }
   ],
   "source": [
    "data.describe()"
   ]
  },
  {
   "cell_type": "code",
   "execution_count": 5,
   "id": "d8d1fcd0",
   "metadata": {},
   "outputs": [
    {
     "name": "stdout",
     "output_type": "stream",
     "text": [
      "<class 'pandas.core.frame.DataFrame'>\n",
      "Int64Index: 891 entries, 1 to 891\n",
      "Data columns (total 11 columns):\n",
      " #   Column    Non-Null Count  Dtype  \n",
      "---  ------    --------------  -----  \n",
      " 0   Survived  891 non-null    int64  \n",
      " 1   Pclass    891 non-null    int64  \n",
      " 2   Name      891 non-null    object \n",
      " 3   Sex       891 non-null    object \n",
      " 4   Age       714 non-null    float64\n",
      " 5   SibSp     891 non-null    int64  \n",
      " 6   Parch     891 non-null    int64  \n",
      " 7   Ticket    891 non-null    object \n",
      " 8   Fare      891 non-null    float64\n",
      " 9   Cabin     204 non-null    object \n",
      " 10  Embarked  889 non-null    object \n",
      "dtypes: float64(2), int64(4), object(5)\n",
      "memory usage: 83.5+ KB\n"
     ]
    }
   ],
   "source": [
    "data.info()"
   ]
  },
  {
   "cell_type": "code",
   "execution_count": 6,
   "id": "35ad23c4",
   "metadata": {},
   "outputs": [],
   "source": [
    "data.drop?"
   ]
  },
  {
   "cell_type": "markdown",
   "id": "f761fcf3",
   "metadata": {},
   "source": [
    "Вырежем все, что не нужно для дальнешйего анализа - колонки \"Ticket\" и \"Name\" "
   ]
  },
  {
   "cell_type": "code",
   "execution_count": 7,
   "id": "52dc183d",
   "metadata": {},
   "outputs": [],
   "source": [
    "data.drop(['Name', 'Ticket'], axis = 1, inplace = True)"
   ]
  },
  {
   "cell_type": "code",
   "execution_count": 8,
   "id": "8d746dad",
   "metadata": {},
   "outputs": [
    {
     "name": "stdout",
     "output_type": "stream",
     "text": [
      "<class 'pandas.core.frame.DataFrame'>\n",
      "Int64Index: 891 entries, 1 to 891\n",
      "Data columns (total 9 columns):\n",
      " #   Column    Non-Null Count  Dtype  \n",
      "---  ------    --------------  -----  \n",
      " 0   Survived  891 non-null    int64  \n",
      " 1   Pclass    891 non-null    int64  \n",
      " 2   Sex       891 non-null    object \n",
      " 3   Age       714 non-null    float64\n",
      " 4   SibSp     891 non-null    int64  \n",
      " 5   Parch     891 non-null    int64  \n",
      " 6   Fare      891 non-null    float64\n",
      " 7   Cabin     204 non-null    object \n",
      " 8   Embarked  889 non-null    object \n",
      "dtypes: float64(2), int64(4), object(3)\n",
      "memory usage: 69.6+ KB\n"
     ]
    }
   ],
   "source": [
    "data.info()"
   ]
  },
  {
   "cell_type": "code",
   "execution_count": 9,
   "id": "8a61c2e1",
   "metadata": {},
   "outputs": [
    {
     "name": "stdout",
     "output_type": "stream",
     "text": [
      "Survived null 0\n",
      "Pclass null 0\n",
      "Sex null 0\n",
      "Age null 177\n",
      "SibSp null 0\n",
      "Parch null 0\n",
      "Fare null 0\n",
      "Cabin null 687\n",
      "Embarked null 2\n"
     ]
    }
   ],
   "source": [
    "for column_name in data.columns:\n",
    "    print(column_name, 'null', data[column_name].isnull().sum())"
   ]
  },
  {
   "cell_type": "markdown",
   "id": "07ad119c",
   "metadata": {},
   "source": [
    "Обработка пропущенных значений, которых много"
   ]
  },
  {
   "cell_type": "code",
   "execution_count": 10,
   "id": "abb9f1ee",
   "metadata": {},
   "outputs": [],
   "source": [
    "data.drop(\"Cabin\", axis = 1, inplace = True)"
   ]
  },
  {
   "cell_type": "code",
   "execution_count": 11,
   "id": "ce0e939e",
   "metadata": {},
   "outputs": [
    {
     "name": "stdout",
     "output_type": "stream",
     "text": [
      "S    644\n",
      "C    168\n",
      "Q     77\n",
      "Name: Embarked, dtype: int64\n"
     ]
    }
   ],
   "source": [
    "print(data[\"Embarked\"].value_counts())"
   ]
  },
  {
   "cell_type": "markdown",
   "id": "80fd5d7d",
   "metadata": {},
   "source": [
    "Замена двух пропущенных значений в колонке \"Embarked\" на \"S\" (???)"
   ]
  },
  {
   "cell_type": "code",
   "execution_count": 12,
   "id": "0c47f0eb",
   "metadata": {},
   "outputs": [],
   "source": [
    "data[\"Embarked\"] = data[\"Embarked\"].fillna(\"S\")"
   ]
  },
  {
   "cell_type": "code",
   "execution_count": 13,
   "id": "09e56cbf",
   "metadata": {},
   "outputs": [
    {
     "name": "stdout",
     "output_type": "stream",
     "text": [
      "S    646\n",
      "C    168\n",
      "Q     77\n",
      "Name: Embarked, dtype: int64\n"
     ]
    }
   ],
   "source": [
    "print(data[\"Embarked\"].value_counts())"
   ]
  },
  {
   "cell_type": "markdown",
   "id": "3f923c56",
   "metadata": {},
   "source": [
    "Все ОкЭй :)"
   ]
  },
  {
   "cell_type": "markdown",
   "id": "8c4540e8",
   "metadata": {},
   "source": [
    "# Задание 1"
   ]
  },
  {
   "cell_type": "markdown",
   "id": "199995cd",
   "metadata": {},
   "source": [
    "1. Найдем среднее значение и стандартное отклонение параметра \"age\" для пассажиров разных классов"
   ]
  },
  {
   "cell_type": "code",
   "execution_count": 14,
   "id": "993291bf",
   "metadata": {},
   "outputs": [
    {
     "data": {
      "text/html": [
       "<div>\n",
       "<style scoped>\n",
       "    .dataframe tbody tr th:only-of-type {\n",
       "        vertical-align: middle;\n",
       "    }\n",
       "\n",
       "    .dataframe tbody tr th {\n",
       "        vertical-align: top;\n",
       "    }\n",
       "\n",
       "    .dataframe thead th {\n",
       "        text-align: right;\n",
       "    }\n",
       "</style>\n",
       "<table border=\"1\" class=\"dataframe\">\n",
       "  <thead>\n",
       "    <tr style=\"text-align: right;\">\n",
       "      <th></th>\n",
       "      <th>Survived</th>\n",
       "      <th>Age</th>\n",
       "      <th>SibSp</th>\n",
       "      <th>Parch</th>\n",
       "      <th>Fare</th>\n",
       "    </tr>\n",
       "    <tr>\n",
       "      <th>Pclass</th>\n",
       "      <th></th>\n",
       "      <th></th>\n",
       "      <th></th>\n",
       "      <th></th>\n",
       "      <th></th>\n",
       "    </tr>\n",
       "  </thead>\n",
       "  <tbody>\n",
       "    <tr>\n",
       "      <th>1</th>\n",
       "      <td>0.629630</td>\n",
       "      <td>38.233441</td>\n",
       "      <td>0.416667</td>\n",
       "      <td>0.356481</td>\n",
       "      <td>84.154687</td>\n",
       "    </tr>\n",
       "    <tr>\n",
       "      <th>2</th>\n",
       "      <td>0.472826</td>\n",
       "      <td>29.877630</td>\n",
       "      <td>0.402174</td>\n",
       "      <td>0.380435</td>\n",
       "      <td>20.662183</td>\n",
       "    </tr>\n",
       "    <tr>\n",
       "      <th>3</th>\n",
       "      <td>0.242363</td>\n",
       "      <td>25.140620</td>\n",
       "      <td>0.615071</td>\n",
       "      <td>0.393075</td>\n",
       "      <td>13.675550</td>\n",
       "    </tr>\n",
       "  </tbody>\n",
       "</table>\n",
       "</div>"
      ],
      "text/plain": [
       "        Survived        Age     SibSp     Parch       Fare\n",
       "Pclass                                                    \n",
       "1       0.629630  38.233441  0.416667  0.356481  84.154687\n",
       "2       0.472826  29.877630  0.402174  0.380435  20.662183\n",
       "3       0.242363  25.140620  0.615071  0.393075  13.675550"
      ]
     },
     "execution_count": 14,
     "metadata": {},
     "output_type": "execute_result"
    }
   ],
   "source": [
    "data.groupby(\"Pclass\").mean()"
   ]
  },
  {
   "cell_type": "code",
   "execution_count": 15,
   "id": "658fc28a",
   "metadata": {},
   "outputs": [
    {
     "data": {
      "text/html": [
       "<div>\n",
       "<style scoped>\n",
       "    .dataframe tbody tr th:only-of-type {\n",
       "        vertical-align: middle;\n",
       "    }\n",
       "\n",
       "    .dataframe tbody tr th {\n",
       "        vertical-align: top;\n",
       "    }\n",
       "\n",
       "    .dataframe thead th {\n",
       "        text-align: right;\n",
       "    }\n",
       "</style>\n",
       "<table border=\"1\" class=\"dataframe\">\n",
       "  <thead>\n",
       "    <tr style=\"text-align: right;\">\n",
       "      <th></th>\n",
       "      <th>Survived</th>\n",
       "      <th>Age</th>\n",
       "      <th>SibSp</th>\n",
       "      <th>Parch</th>\n",
       "      <th>Fare</th>\n",
       "    </tr>\n",
       "    <tr>\n",
       "      <th>Pclass</th>\n",
       "      <th></th>\n",
       "      <th></th>\n",
       "      <th></th>\n",
       "      <th></th>\n",
       "      <th></th>\n",
       "    </tr>\n",
       "  </thead>\n",
       "  <tbody>\n",
       "    <tr>\n",
       "      <th>1</th>\n",
       "      <td>0.484026</td>\n",
       "      <td>14.802856</td>\n",
       "      <td>0.611898</td>\n",
       "      <td>0.693997</td>\n",
       "      <td>78.380373</td>\n",
       "    </tr>\n",
       "    <tr>\n",
       "      <th>2</th>\n",
       "      <td>0.500623</td>\n",
       "      <td>14.001077</td>\n",
       "      <td>0.601633</td>\n",
       "      <td>0.690963</td>\n",
       "      <td>13.417399</td>\n",
       "    </tr>\n",
       "    <tr>\n",
       "      <th>3</th>\n",
       "      <td>0.428949</td>\n",
       "      <td>12.495398</td>\n",
       "      <td>1.374883</td>\n",
       "      <td>0.888861</td>\n",
       "      <td>11.778142</td>\n",
       "    </tr>\n",
       "  </tbody>\n",
       "</table>\n",
       "</div>"
      ],
      "text/plain": [
       "        Survived        Age     SibSp     Parch       Fare\n",
       "Pclass                                                    \n",
       "1       0.484026  14.802856  0.611898  0.693997  78.380373\n",
       "2       0.500623  14.001077  0.601633  0.690963  13.417399\n",
       "3       0.428949  12.495398  1.374883  0.888861  11.778142"
      ]
     },
     "execution_count": 15,
     "metadata": {},
     "output_type": "execute_result"
    }
   ],
   "source": [
    "data.groupby(\"Pclass\").std()"
   ]
  },
  {
   "cell_type": "markdown",
   "id": "9f3c518c",
   "metadata": {},
   "source": [
    "2. В каком порту количество мужчин и женщин больше всего отличалось (абсолютное значение)?"
   ]
  },
  {
   "cell_type": "code",
   "execution_count": 16,
   "id": "91abf6e7",
   "metadata": {},
   "outputs": [
    {
     "data": {
      "text/html": [
       "<div>\n",
       "<style scoped>\n",
       "    .dataframe tbody tr th:only-of-type {\n",
       "        vertical-align: middle;\n",
       "    }\n",
       "\n",
       "    .dataframe tbody tr th {\n",
       "        vertical-align: top;\n",
       "    }\n",
       "\n",
       "    .dataframe thead th {\n",
       "        text-align: right;\n",
       "    }\n",
       "</style>\n",
       "<table border=\"1\" class=\"dataframe\">\n",
       "  <thead>\n",
       "    <tr style=\"text-align: right;\">\n",
       "      <th></th>\n",
       "      <th></th>\n",
       "      <th>Survived</th>\n",
       "      <th>Pclass</th>\n",
       "      <th>Age</th>\n",
       "      <th>SibSp</th>\n",
       "      <th>Parch</th>\n",
       "      <th>Fare</th>\n",
       "    </tr>\n",
       "    <tr>\n",
       "      <th>Embarked</th>\n",
       "      <th>Sex</th>\n",
       "      <th></th>\n",
       "      <th></th>\n",
       "      <th></th>\n",
       "      <th></th>\n",
       "      <th></th>\n",
       "      <th></th>\n",
       "    </tr>\n",
       "  </thead>\n",
       "  <tbody>\n",
       "    <tr>\n",
       "      <th rowspan=\"2\" valign=\"top\">C</th>\n",
       "      <th>female</th>\n",
       "      <td>73</td>\n",
       "      <td>73</td>\n",
       "      <td>61</td>\n",
       "      <td>73</td>\n",
       "      <td>73</td>\n",
       "      <td>73</td>\n",
       "    </tr>\n",
       "    <tr>\n",
       "      <th>male</th>\n",
       "      <td>95</td>\n",
       "      <td>95</td>\n",
       "      <td>69</td>\n",
       "      <td>95</td>\n",
       "      <td>95</td>\n",
       "      <td>95</td>\n",
       "    </tr>\n",
       "    <tr>\n",
       "      <th rowspan=\"2\" valign=\"top\">Q</th>\n",
       "      <th>female</th>\n",
       "      <td>36</td>\n",
       "      <td>36</td>\n",
       "      <td>12</td>\n",
       "      <td>36</td>\n",
       "      <td>36</td>\n",
       "      <td>36</td>\n",
       "    </tr>\n",
       "    <tr>\n",
       "      <th>male</th>\n",
       "      <td>41</td>\n",
       "      <td>41</td>\n",
       "      <td>16</td>\n",
       "      <td>41</td>\n",
       "      <td>41</td>\n",
       "      <td>41</td>\n",
       "    </tr>\n",
       "    <tr>\n",
       "      <th rowspan=\"2\" valign=\"top\">S</th>\n",
       "      <th>female</th>\n",
       "      <td>205</td>\n",
       "      <td>205</td>\n",
       "      <td>188</td>\n",
       "      <td>205</td>\n",
       "      <td>205</td>\n",
       "      <td>205</td>\n",
       "    </tr>\n",
       "    <tr>\n",
       "      <th>male</th>\n",
       "      <td>441</td>\n",
       "      <td>441</td>\n",
       "      <td>368</td>\n",
       "      <td>441</td>\n",
       "      <td>441</td>\n",
       "      <td>441</td>\n",
       "    </tr>\n",
       "  </tbody>\n",
       "</table>\n",
       "</div>"
      ],
      "text/plain": [
       "                 Survived  Pclass  Age  SibSp  Parch  Fare\n",
       "Embarked Sex                                              \n",
       "C        female        73      73   61     73     73    73\n",
       "         male          95      95   69     95     95    95\n",
       "Q        female        36      36   12     36     36    36\n",
       "         male          41      41   16     41     41    41\n",
       "S        female       205     205  188    205    205   205\n",
       "         male         441     441  368    441    441   441"
      ]
     },
     "execution_count": 16,
     "metadata": {},
     "output_type": "execute_result"
    }
   ],
   "source": [
    "data.groupby([\"Embarked\", \"Sex\"]).count()"
   ]
  },
  {
   "cell_type": "markdown",
   "id": "a9480649",
   "metadata": {},
   "source": [
    "Из таблицы видно, что наибольшая разница в порту \"S\""
   ]
  },
  {
   "cell_type": "markdown",
   "id": "10790087",
   "metadata": {},
   "source": [
    "3. Количество пропущенных значений (NaN) в каждой колонке"
   ]
  },
  {
   "cell_type": "code",
   "execution_count": 17,
   "id": "a3b4be4a",
   "metadata": {},
   "outputs": [
    {
     "data": {
      "text/plain": [
       "Survived      0\n",
       "Pclass        0\n",
       "Sex           0\n",
       "Age         177\n",
       "SibSp         0\n",
       "Parch         0\n",
       "Fare          0\n",
       "Embarked      0\n",
       "dtype: int64"
      ]
     },
     "execution_count": 17,
     "metadata": {},
     "output_type": "execute_result"
    }
   ],
   "source": [
    "len(data) - data.count()"
   ]
  },
  {
   "cell_type": "markdown",
   "id": "abe1fd63",
   "metadata": {},
   "source": [
    "Больше всего пропущенных значений имеет переменная \"Age\""
   ]
  },
  {
   "cell_type": "markdown",
   "id": "4eeae854",
   "metadata": {},
   "source": [
    "4. Сделать замену \"NaN\" на медианное значение показателя"
   ]
  },
  {
   "cell_type": "code",
   "execution_count": 18,
   "id": "1fa74312",
   "metadata": {},
   "outputs": [],
   "source": [
    "median_age = data[\"Age\"].median()"
   ]
  },
  {
   "cell_type": "code",
   "execution_count": 19,
   "id": "3538299f",
   "metadata": {},
   "outputs": [
    {
     "data": {
      "text/plain": [
       "28.0"
      ]
     },
     "execution_count": 19,
     "metadata": {},
     "output_type": "execute_result"
    }
   ],
   "source": [
    "median_age"
   ]
  },
  {
   "cell_type": "code",
   "execution_count": 20,
   "id": "80a5bf73",
   "metadata": {},
   "outputs": [],
   "source": [
    "data[\"Age\"] = data[\"Age\"].fillna(median_age)"
   ]
  },
  {
   "cell_type": "code",
   "execution_count": 21,
   "id": "5dc7c1f2",
   "metadata": {},
   "outputs": [
    {
     "name": "stdout",
     "output_type": "stream",
     "text": [
      "<class 'pandas.core.frame.DataFrame'>\n",
      "Int64Index: 891 entries, 1 to 891\n",
      "Data columns (total 8 columns):\n",
      " #   Column    Non-Null Count  Dtype  \n",
      "---  ------    --------------  -----  \n",
      " 0   Survived  891 non-null    int64  \n",
      " 1   Pclass    891 non-null    int64  \n",
      " 2   Sex       891 non-null    object \n",
      " 3   Age       891 non-null    float64\n",
      " 4   SibSp     891 non-null    int64  \n",
      " 5   Parch     891 non-null    int64  \n",
      " 6   Fare      891 non-null    float64\n",
      " 7   Embarked  891 non-null    object \n",
      "dtypes: float64(2), int64(4), object(2)\n",
      "memory usage: 62.6+ KB\n"
     ]
    }
   ],
   "source": [
    "data.info()"
   ]
  },
  {
   "cell_type": "markdown",
   "id": "1caf3050",
   "metadata": {},
   "source": [
    "# Задание 2. Построение графиков распределений"
   ]
  },
  {
   "cell_type": "code",
   "execution_count": 22,
   "id": "77f41b83",
   "metadata": {},
   "outputs": [],
   "source": [
    "import matplotlib.pyplot as plt\n",
    "import seaborn as sns\n",
    "sns.set_style(\"whitegrid\")\n",
    "%matplotlib inline"
   ]
  },
  {
   "cell_type": "markdown",
   "id": "d9fc9ad1",
   "metadata": {},
   "source": [
    "Начнем с чего-то простого: посмотрим на распределение возраста и тарифа"
   ]
  },
  {
   "cell_type": "code",
   "execution_count": 23,
   "id": "ca841be6",
   "metadata": {},
   "outputs": [
    {
     "data": {
      "text/plain": [
       "Text(0, 0.5, 'Тариф')"
      ]
     },
     "execution_count": 23,
     "metadata": {},
     "output_type": "execute_result"
    },
    {
     "data": {
      "image/png": "[encoded data removed]",
      "text/plain": [
       "<Figure size 432x288 with 1 Axes>"
      ]
     },
     "metadata": {
      "needs_background": "light"
     },
     "output_type": "display_data"
    }
   ],
   "source": [
    "x = data[\"Age\"]\n",
    "y = data[\"Fare\"]\n",
    "plt.plot(x,y, 'o')\n",
    "plt.xlabel('Возраст')\n",
    "plt.ylabel('Тариф')"
   ]
  },
  {
   "cell_type": "markdown",
   "id": "a4af3289",
   "metadata": {},
   "source": [
    "Посмотрим на долю пассажиров (с учетом неопределенности) в зависимости от места"
   ]
  },
  {
   "cell_type": "code",
   "execution_count": 24,
   "id": "a9a16114",
   "metadata": {},
   "outputs": [
    {
     "data": {
      "text/plain": [
       "<AxesSubplot:xlabel='count', ylabel='Survived'>"
      ]
     },
     "execution_count": 24,
     "metadata": {},
     "output_type": "execute_result"
    },
    {
     "data": {
      "image/png": "[encoded data removed]",
      "text/plain": [
       "<Figure size 864x288 with 1 Axes>"
      ]
     },
     "metadata": {
      "needs_background": "light"
     },
     "output_type": "display_data"
    },
    {
     "data": {
      "image/png": "[encoded data removed]",
      "text/plain": [
       "<Figure size 1080x360 with 3 Axes>"
      ]
     },
     "metadata": {
      "needs_background": "light"
     },
     "output_type": "display_data"
    }
   ],
   "source": [
    "sns.catplot(x = \"Embarked\", y = \"Survived\", data = data, height = 4, aspect = 3, kind = 'point')\n",
    "figure_handle, (axis1, axis2, axis3) = plt.subplots(1,3, figsize = (15,5))\n",
    "sns.countplot(x = \"Embarked\", data = data, ax = axis1)\n",
    "sns.countplot(y = \"Survived\", hue = \"Embarked\", data = data, order = [1,0], ax = axis2)"
   ]
  },
  {
   "cell_type": "markdown",
   "id": "b08089fe",
   "metadata": {},
   "source": [
    "А теперь посмотрим на средние значения "
   ]
  },
  {
   "cell_type": "code",
   "execution_count": 25,
   "id": "884970bc",
   "metadata": {},
   "outputs": [
    {
     "data": {
      "text/plain": [
       "<AxesSubplot:xlabel='Embarked', ylabel='Survived'>"
      ]
     },
     "execution_count": 25,
     "metadata": {},
     "output_type": "execute_result"
    }
   ],
   "source": [
    "sns.barplot(x = \"Embarked\", y = \"Survived\", data = data[[\"Embarked\", \"Survived\"]], order = [\"S\", \"C\", \"Q\"], ax = axis3)"
   ]
  },
  {
   "cell_type": "markdown",
   "id": "663e5859",
   "metadata": {},
   "source": [
    "Сделаем бинарные переменные для параметра \"Embarked\", если мы хотим сделать прогноз (например, логит)"
   ]
  },
  {
   "cell_type": "code",
   "execution_count": 26,
   "id": "c5af7d6a",
   "metadata": {},
   "outputs": [],
   "source": [
    "embarked_dummies_data = pd.get_dummies(data[\"Embarked\"])"
   ]
  },
  {
   "cell_type": "code",
   "execution_count": 27,
   "id": "3e558f27",
   "metadata": {},
   "outputs": [
    {
     "data": {
      "text/html": [
       "<div>\n",
       "<style scoped>\n",
       "    .dataframe tbody tr th:only-of-type {\n",
       "        vertical-align: middle;\n",
       "    }\n",
       "\n",
       "    .dataframe tbody tr th {\n",
       "        vertical-align: top;\n",
       "    }\n",
       "\n",
       "    .dataframe thead th {\n",
       "        text-align: right;\n",
       "    }\n",
       "</style>\n",
       "<table border=\"1\" class=\"dataframe\">\n",
       "  <thead>\n",
       "    <tr style=\"text-align: right;\">\n",
       "      <th></th>\n",
       "      <th>C</th>\n",
       "      <th>Q</th>\n",
       "      <th>S</th>\n",
       "    </tr>\n",
       "    <tr>\n",
       "      <th>PassengerId</th>\n",
       "      <th></th>\n",
       "      <th></th>\n",
       "      <th></th>\n",
       "    </tr>\n",
       "  </thead>\n",
       "  <tbody>\n",
       "    <tr>\n",
       "      <th>1</th>\n",
       "      <td>0</td>\n",
       "      <td>0</td>\n",
       "      <td>1</td>\n",
       "    </tr>\n",
       "    <tr>\n",
       "      <th>2</th>\n",
       "      <td>1</td>\n",
       "      <td>0</td>\n",
       "      <td>0</td>\n",
       "    </tr>\n",
       "    <tr>\n",
       "      <th>3</th>\n",
       "      <td>0</td>\n",
       "      <td>0</td>\n",
       "      <td>1</td>\n",
       "    </tr>\n",
       "    <tr>\n",
       "      <th>4</th>\n",
       "      <td>0</td>\n",
       "      <td>0</td>\n",
       "      <td>1</td>\n",
       "    </tr>\n",
       "    <tr>\n",
       "      <th>5</th>\n",
       "      <td>0</td>\n",
       "      <td>0</td>\n",
       "      <td>1</td>\n",
       "    </tr>\n",
       "    <tr>\n",
       "      <th>...</th>\n",
       "      <td>...</td>\n",
       "      <td>...</td>\n",
       "      <td>...</td>\n",
       "    </tr>\n",
       "    <tr>\n",
       "      <th>887</th>\n",
       "      <td>0</td>\n",
       "      <td>0</td>\n",
       "      <td>1</td>\n",
       "    </tr>\n",
       "    <tr>\n",
       "      <th>888</th>\n",
       "      <td>0</td>\n",
       "      <td>0</td>\n",
       "      <td>1</td>\n",
       "    </tr>\n",
       "    <tr>\n",
       "      <th>889</th>\n",
       "      <td>0</td>\n",
       "      <td>0</td>\n",
       "      <td>1</td>\n",
       "    </tr>\n",
       "    <tr>\n",
       "      <th>890</th>\n",
       "      <td>1</td>\n",
       "      <td>0</td>\n",
       "      <td>0</td>\n",
       "    </tr>\n",
       "    <tr>\n",
       "      <th>891</th>\n",
       "      <td>0</td>\n",
       "      <td>1</td>\n",
       "      <td>0</td>\n",
       "    </tr>\n",
       "  </tbody>\n",
       "</table>\n",
       "<p>891 rows × 3 columns</p>\n",
       "</div>"
      ],
      "text/plain": [
       "             C  Q  S\n",
       "PassengerId         \n",
       "1            0  0  1\n",
       "2            1  0  0\n",
       "3            0  0  1\n",
       "4            0  0  1\n",
       "5            0  0  1\n",
       "...         .. .. ..\n",
       "887          0  0  1\n",
       "888          0  0  1\n",
       "889          0  0  1\n",
       "890          1  0  0\n",
       "891          0  1  0\n",
       "\n",
       "[891 rows x 3 columns]"
      ]
     },
     "execution_count": 27,
     "metadata": {},
     "output_type": "execute_result"
    }
   ],
   "source": [
    "embarked_dummies_data"
   ]
  },
  {
   "cell_type": "code",
   "execution_count": 28,
   "id": "6b1067bf",
   "metadata": {},
   "outputs": [],
   "source": [
    "embarked_dummies_data.drop(['S'], axis =1, inplace = True)"
   ]
  },
  {
   "cell_type": "code",
   "execution_count": 29,
   "id": "17e42eed",
   "metadata": {},
   "outputs": [],
   "source": [
    "data = data.join(embarked_dummies_data)"
   ]
  },
  {
   "cell_type": "code",
   "execution_count": 30,
   "id": "b0c7a2e8",
   "metadata": {},
   "outputs": [],
   "source": [
    "data.drop([\"Embarked\"], axis =1, inplace = True)"
   ]
  },
  {
   "cell_type": "markdown",
   "id": "81d2dc3b",
   "metadata": {},
   "source": [
    "Сделаем преобразование с переменной \"Fare\": переведем из класса float в класс int"
   ]
  },
  {
   "cell_type": "code",
   "execution_count": 31,
   "id": "ebd2fdf3",
   "metadata": {},
   "outputs": [],
   "source": [
    "data[\"Fare\"] = data[\"Fare\"].astype(int)"
   ]
  },
  {
   "cell_type": "markdown",
   "id": "77f3ca63",
   "metadata": {},
   "source": [
    "Посмотрим на тариф для выживших и нет пассажиров. Если пассажир выжил, то будет соответствовать 1. В противном случае - 0."
   ]
  },
  {
   "cell_type": "code",
   "execution_count": 32,
   "id": "c1cb0e38",
   "metadata": {},
   "outputs": [],
   "source": [
    "fare_not_survived = data[\"Fare\"][data[\"Survived\"] == 0]\n",
    "fare_survived = data[\"Fare\"][data[\"Survived\"] == 1]"
   ]
  },
  {
   "cell_type": "markdown",
   "id": "c9a9cf63",
   "metadata": {},
   "source": [
    "Найдем среднее значение и стандартное отклонение выживших и нет пассажиров"
   ]
  },
  {
   "cell_type": "code",
   "execution_count": 33,
   "id": "c29d861b",
   "metadata": {},
   "outputs": [],
   "source": [
    "average_fare = DataFrame([fare_not_survived.mean(), fare_survived.mean()])\n",
    "std_fare = DataFrame([fare_not_survived. std(), fare_survived.std()])"
   ]
  },
  {
   "cell_type": "markdown",
   "id": "254c8706",
   "metadata": {},
   "source": [
    "Построим соответствующий график"
   ]
  },
  {
   "cell_type": "code",
   "execution_count": 34,
   "id": "e7637fb7",
   "metadata": {},
   "outputs": [
    {
     "data": {
      "text/plain": [
       "<AxesSubplot:xlabel='Survived'>"
      ]
     },
     "execution_count": 34,
     "metadata": {},
     "output_type": "execute_result"
    },
    {
     "data": {
      "image/png": "[encoded data removed]",
      "text/plain": [
       "<Figure size 1080x360 with 1 Axes>"
      ]
     },
     "metadata": {
      "needs_background": "light"
     },
     "output_type": "display_data"
    },
    {
     "data": {
      "image/png": "[encoded data removed]",
      "text/plain": [
       "<Figure size 432x288 with 1 Axes>"
      ]
     },
     "metadata": {
      "needs_background": "light"
     },
     "output_type": "display_data"
    }
   ],
   "source": [
    "data[\"Fare\"].plot(kind = 'hist', figsize = (15,5), bins = 100, xlim = (0,50))\n",
    "\n",
    "std_fare.index.names = [\"Survived\"]\n",
    "average_fare.index.names = [\"Survived\"]\n",
    "average_fare.plot(yerr=std_fare, kind = 'bar', legend = 'False')"
   ]
  },
  {
   "cell_type": "code",
   "execution_count": 36,
   "id": "67cda546",
   "metadata": {},
   "outputs": [
    {
     "name": "stdout",
     "output_type": "stream",
     "text": [
      "<pandas.core.groupby.generic.DataFrameGroupBy object at 0x7f7c474de730>\n"
     ]
    }
   ],
   "source": [
    "print(data[[\"Pclass\", \"Survived\"]].groupby([\"Pclass\"], as_index = True))"
   ]
  },
  {
   "cell_type": "code",
   "execution_count": 37,
   "id": "499a9536",
   "metadata": {},
   "outputs": [
    {
     "data": {
      "text/plain": [
       "<AxesSubplot:xlabel='Pclass', ylabel='Survived'>"
      ]
     },
     "execution_count": 37,
     "metadata": {},
     "output_type": "execute_result"
    },
    {
     "data": {
      "image/png": "[encoded data removed]",
      "text/plain": [
       "<Figure size 720x360 with 1 Axes>"
      ]
     },
     "metadata": {
      "needs_background": "light"
     },
     "output_type": "display_data"
    }
   ],
   "source": [
    "plt.figure(figsize = [10,5])\n",
    "sns.barplot(x=\"Pclass\", y = \"Survived\", data = data[[\"Pclass\", \"Survived\"]], order = [1,2,3])"
   ]
  },
  {
   "cell_type": "code",
   "execution_count": 40,
   "id": "e07deea2",
   "metadata": {},
   "outputs": [
    {
     "data": {
      "text/plain": [
       "Text(0.5, 1.0, 'Новые значения возраста')"
      ]
     },
     "execution_count": 40,
     "metadata": {},
     "output_type": "execute_result"
    },
    {
     "data": {
      "image/png": "[encoded data removed]",
      "text/plain": [
       "<Figure size 1080x288 with 2 Axes>"
      ]
     },
     "metadata": {
      "needs_background": "light"
     },
     "output_type": "display_data"
    }
   ],
   "source": [
    "fig, (axis1, axis2) = plt.subplots(1,2, figsize = (15,4))\n",
    "axis1.set_title(\"Искомые значения возраста\")\n",
    "axis2.set_title(\"Новые значения возраста\")"
   ]
  },
  {
   "cell_type": "markdown",
   "id": "8b20e15e",
   "metadata": {},
   "source": [
    "Найдем среднее значение ($\\nu$), стандартное отклонение ($\\sigma$)"
   ]
  },
  {
   "cell_type": "code",
   "execution_count": 46,
   "id": "944e6f04",
   "metadata": {},
   "outputs": [],
   "source": [
    "average_age_titanic = data[\"Age\"].mean()\n",
    "std_age_titanic = data[\"Age\"].std()\n",
    "count_nan_age_titanic = data[\"Age\"].isnull().sum()"
   ]
  },
  {
   "cell_type": "markdown",
   "id": "fad08d7a",
   "metadata": {},
   "source": [
    "Создадим искусственные переменные, которые будут определяться как: ($\\nu$ - $\\sigma$)$\\times$ ($\\nu$ + $\\sigma$)"
   ]
  },
  {
   "cell_type": "code",
   "execution_count": 47,
   "id": "cfb1519a",
   "metadata": {},
   "outputs": [],
   "source": [
    "random_ages = np.random.randint(average_age_titanic - std_age_titanic, average_age_titanic + std_age_titanic, size = count_nan_age_titanic)"
   ]
  },
  {
   "cell_type": "markdown",
   "id": "322832ca",
   "metadata": {},
   "source": [
    "Построим график распределения возраста до преобразования"
   ]
  },
  {
   "cell_type": "code",
   "execution_count": 49,
   "id": "5cce78b2",
   "metadata": {},
   "outputs": [],
   "source": [
    "data.loc[np.isnan(data[\"Age\"]), \"Age\"] = random_ages"
   ]
  },
  {
   "cell_type": "markdown",
   "id": "b1ca432d",
   "metadata": {},
   "source": [
    "Преобразование переменных с плавающей точкой в целочисленные "
   ]
  },
  {
   "cell_type": "code",
   "execution_count": 50,
   "id": "7fd23af6",
   "metadata": {},
   "outputs": [],
   "source": [
    "data[\"Age\"] = data[\"Age\"].astype(int)"
   ]
  },
  {
   "cell_type": "markdown",
   "id": "4ba305d9",
   "metadata": {},
   "source": [
    "Рассмотрим распределение выживших и нет в зависимости от возраста"
   ]
  },
  {
   "cell_type": "code",
   "execution_count": 52,
   "id": "54a1eb89",
   "metadata": {},
   "outputs": [
    {
     "data": {
      "text/plain": [
       "<seaborn.axisgrid.FacetGrid at 0x7f7c48e03190>"
      ]
     },
     "execution_count": 52,
     "metadata": {},
     "output_type": "execute_result"
    },
    {
     "data": {
      "image/png": "[encoded data removed]",
      "text/plain": [
       "<Figure size 695x216 with 1 Axes>"
      ]
     },
     "metadata": {
      "needs_background": "light"
     },
     "output_type": "display_data"
    }
   ],
   "source": [
    "facet = sns.FacetGrid(data, hue = \"Survived\", aspect = 3)\n",
    "facet.map(sns.kdeplot, \"Age\", shade = True)\n",
    "facet.set(xlim = (0, data[\"Age\"].max()))\n",
    "facet.add_legend()"
   ]
  },
  {
   "cell_type": "markdown",
   "id": "f3230ff1",
   "metadata": {},
   "source": [
    "Средний возраст выивших пассажиров"
   ]
  },
  {
   "cell_type": "code",
   "execution_count": 57,
   "id": "1f062a33",
   "metadata": {},
   "outputs": [
    {
     "data": {
      "text/plain": [
       "<AxesSubplot:xlabel='Age', ylabel='Survived'>"
      ]
     },
     "execution_count": 57,
     "metadata": {},
     "output_type": "execute_result"
    },
    {
     "data": {
      "image/png": "[encoded data removed]",
      "text/plain": [
       "<Figure size 1296x288 with 2 Axes>"
      ]
     },
     "metadata": {
      "needs_background": "light"
     },
     "output_type": "display_data"
    }
   ],
   "source": [
    "figure_handle, axis1 = plt.subplots(1,2, figsize = (18,4))\n",
    "average_age = data[[\"Age\", \"Survived\"]].groupby([\"Age\"], as_index = False).mean()\n",
    "sns.barplot(x = \"Age\", y = \"Survived\", data = average_age)"
   ]
  },
  {
   "cell_type": "markdown",
   "id": "626d647c",
   "metadata": {},
   "source": [
    "Рассмотрим случай, когда пассажир был один или с кем-то. Следовательно, возможна гипотеза: влияет ли наличие родственника на выживание"
   ]
  },
  {
   "cell_type": "code",
   "execution_count": 58,
   "id": "d13b52ec",
   "metadata": {},
   "outputs": [],
   "source": [
    "data[\"Family\"] = data[\"Parch\"] + data[\"SibSp\"]\n",
    "data.loc[data[\"Family\"] > 0, \"Family\"] = 1\n",
    "data.loc[data[\"Family\"] == 0, \"Family\"] = 0"
   ]
  },
  {
   "cell_type": "markdown",
   "id": "2498cb34",
   "metadata": {},
   "source": [
    "Соединим между собой"
   ]
  },
  {
   "cell_type": "code",
   "execution_count": 59,
   "id": "ea457dcf",
   "metadata": {},
   "outputs": [],
   "source": [
    "data.drop([\"SibSp\", \"Parch\"], axis = 1, inplace = True)"
   ]
  },
  {
   "cell_type": "markdown",
   "id": "f1f3caa8",
   "metadata": {},
   "source": [
    "Нарисуем графики"
   ]
  },
  {
   "cell_type": "code",
   "execution_count": 61,
   "id": "02f56380",
   "metadata": {},
   "outputs": [
    {
     "data": {
      "text/plain": [
       "<AxesSubplot:xlabel='Family', ylabel='Survived'>"
      ]
     },
     "execution_count": 61,
     "metadata": {},
     "output_type": "execute_result"
    },
    {
     "data": {
      "image/png": "[encoded data removed]",
      "text/plain": [
       "<Figure size 720x360 with 2 Axes>"
      ]
     },
     "metadata": {
      "needs_background": "light"
     },
     "output_type": "display_data"
    }
   ],
   "source": [
    "figure_handle, (axis1, axis2) = plt.subplots(1,2, sharex = True, figsize = (10,5))\n",
    "sns.countplot(x = \"Family\", data = data, order = [1,0], ax = axis1)\n",
    "axis1.set_xticklabels([\"С семьей\", \"Одинчкой\"], rotation = 0)\n",
    "\n",
    "sns.barplot(x = \"Family\", y = \"Survived\", data = data[[\"Family\", \"Survived\"]], order = [1,0], ax = axis2)"
   ]
  },
  {
   "cell_type": "markdown",
   "id": "ceb84793",
   "metadata": {},
   "source": [
    "Классифицируем пассажиров в заивисимости от пола: мужчины, женщины и дети"
   ]
  },
  {
   "cell_type": "code",
   "execution_count": 62,
   "id": "3a61e1b6",
   "metadata": {},
   "outputs": [],
   "source": [
    "def get_person(passenger):\n",
    "    age, sex = passenger\n",
    "    return \"child\" if age < 16 else sex\n",
    "\n",
    "data[\"Person\"] = data[[\"Age\", \"Sex\"]].apply(get_person, axis = 1)"
   ]
  },
  {
   "cell_type": "markdown",
   "id": "478344f9",
   "metadata": {},
   "source": [
    "Введем бинарные переменные и уберем мужчин, так как их численность наименьшая среди выживших"
   ]
  },
  {
   "cell_type": "code",
   "execution_count": 63,
   "id": "144d29d9",
   "metadata": {},
   "outputs": [],
   "source": [
    "person_dummies_titanic = pd.get_dummies(data[\"Person\"])\n",
    "person_dummies_titanic.columns = [\"Child\", \"Female\", \"Male\"]\n",
    "person_dummies_titanic.drop([\"Male\"], axis = 1, inplace = True)"
   ]
  },
  {
   "cell_type": "code",
   "execution_count": 64,
   "id": "d9d4c0ce",
   "metadata": {},
   "outputs": [],
   "source": [
    "data = data.join(person_dummies_titanic)"
   ]
  },
  {
   "cell_type": "code",
   "execution_count": 66,
   "id": "4737c3d0",
   "metadata": {},
   "outputs": [
    {
     "data": {
      "image/png": "[encoded data removed]",
      "text/plain": [
       "<Figure size 720x360 with 2 Axes>"
      ]
     },
     "metadata": {
      "needs_background": "light"
     },
     "output_type": "display_data"
    }
   ],
   "source": [
    "figure_handle, (axis1, axis2) = plt.subplots(1,2, figsize = (10,5))\n",
    "sns.countplot(x = \"Person\", data = data, ax = axis1)\n",
    "\n",
    "sns.barplot(x = \"Person\", y = \"Survived\", data = data[[\"Person\", \"Survived\"]], ax = axis2, order = [\"male\", \"female\", \"child\"])\n",
    "data.drop([\"Person\"], axis=1, inplace = True)"
   ]
  },
  {
   "cell_type": "markdown",
   "id": "2d5080a3",
   "metadata": {},
   "source": [
    "Теперь рассмотрим Fclass и уберем третий класс "
   ]
  },
  {
   "cell_type": "code",
   "execution_count": 67,
   "id": "f59a69e4",
   "metadata": {},
   "outputs": [
    {
     "name": "stderr",
     "output_type": "stream",
     "text": [
      "/Users/anastasia/opt/anaconda3/lib/python3.8/site-packages/seaborn/_decorators.py:36: FutureWarning: Pass the following variables as keyword args: x, y. From version 0.12, the only valid positional argument will be `data`, and passing other arguments without an explicit keyword will result in an error or misinterpretation.\n",
      "  warnings.warn(\n"
     ]
    },
    {
     "data": {
      "image/png": "[encoded data removed]",
      "text/plain": [
       "<Figure size 360x360 with 1 Axes>"
      ]
     },
     "metadata": {
      "needs_background": "light"
     },
     "output_type": "display_data"
    }
   ],
   "source": [
    "sns.catplot(\"Pclass\", \"Survived\", order = [1,2,3], data = data, height = 5, kind = \"point\")\n",
    "pclass_dummies_titanic = pd.get_dummies(data[\"Pclass\"])\n",
    "pclass_dummies_titanic.columns = [\"Class_1\", \"Class_2\", \"Class_3\"]\n",
    "pclass_dummies_titanic.drop([\"Class_3\"], axis =1, inplace = True)\n",
    "data = data.join(pclass_dummies_titanic)"
   ]
  },
  {
   "cell_type": "markdown",
   "id": "7cf3dd64",
   "metadata": {},
   "source": [
    "# Задание 3. "
   ]
  },
  {
   "cell_type": "markdown",
   "id": "2f78c969",
   "metadata": {},
   "source": [
    "1. Верно ли, что распределение по возарсту у мужчин и женщин одинаковое?"
   ]
  },
  {
   "cell_type": "code",
   "execution_count": 69,
   "id": "ff379f56",
   "metadata": {},
   "outputs": [
    {
     "data": {
      "text/plain": [
       "<AxesSubplot:title={'center':'Женщины'}>"
      ]
     },
     "execution_count": 69,
     "metadata": {},
     "output_type": "execute_result"
    },
    {
     "data": {
      "image/png": "[encoded data removed]",
      "text/plain": [
       "<Figure size 1080x288 with 2 Axes>"
      ]
     },
     "metadata": {
      "needs_background": "light"
     },
     "output_type": "display_data"
    }
   ],
   "source": [
    "gender_titanic1 = data[data.Sex == \"male\"]\n",
    "gender_titanic2 = data[data.Sex == \"female\"]\n",
    "\n",
    "fig, (axis1, axis2) = plt.subplots(1,2, figsize = (15,4))\n",
    "\n",
    "axis1.set_title(\"Мужчины\")\n",
    "axis2.set_title(\"Женщины\")\n",
    "\n",
    "gender_titanic1[\"Age\"].hist(ax = axis1, bins = 50)\n",
    "gender_titanic2[\"Age\"].hist(ax = axis2, bins = 50)"
   ]
  },
  {
   "cell_type": "markdown",
   "id": "a813b353",
   "metadata": {},
   "source": [
    "2. Сравнить возраст в разных классах"
   ]
  },
  {
   "cell_type": "code",
   "execution_count": 70,
   "id": "754849c5",
   "metadata": {},
   "outputs": [
    {
     "data": {
      "text/plain": [
       "<pandas.core.groupby.generic.DataFrameGroupBy object at 0x7f7c4ac31b80>"
      ]
     },
     "execution_count": 70,
     "metadata": {},
     "output_type": "execute_result"
    }
   ],
   "source": [
    "data.groupby(\"Pclass\")"
   ]
  },
  {
   "cell_type": "code",
   "execution_count": 72,
   "id": "3b72590b",
   "metadata": {},
   "outputs": [
    {
     "data": {
      "text/plain": [
       "<AxesSubplot:title={'center':'Возраст в третьем классе'}>"
      ]
     },
     "execution_count": 72,
     "metadata": {},
     "output_type": "execute_result"
    },
    {
     "data": {
      "image/png": "[encoded data removed]",
      "text/plain": [
       "<Figure size 1080x288 with 3 Axes>"
      ]
     },
     "metadata": {
      "needs_background": "light"
     },
     "output_type": "display_data"
    }
   ],
   "source": [
    "fig, (axis1, axis2, axis3) = plt.subplots(1,3, figsize = (15,4))\n",
    "axis1.set_title(\"Возраст в первом классе\")\n",
    "axis2.set_title(\"Возраст во втором классе\")\n",
    "axis3.set_title(\"Возраст в третьем классе\")\n",
    "\n",
    "pclass_titanic = data[data.Pclass == 1]\n",
    "pclass_titanic[\"Age\"].hist(ax = axis1, bins = 50)\n",
    "\n",
    "pclass_titanic = data[data.Pclass == 2]\n",
    "pclass_titanic[\"Age\"].hist(ax = axis2, bins = 50)\n",
    "\n",
    "pclass_titanic = data[data.Pclass == 3]\n",
    "pclass_titanic[\"Age\"].hist(ax = axis3, bins = 50)"
   ]
  },
  {
   "cell_type": "markdown",
   "id": "9ab23ff3",
   "metadata": {},
   "source": [
    "# Задание 4. ML"
   ]
  },
  {
   "cell_type": "code",
   "execution_count": 74,
   "id": "b7d00851",
   "metadata": {},
   "outputs": [],
   "source": [
    "from sklearn.linear_model import LogisticRegression\n",
    "from sklearn.svm import SVC, LinearSVC\n",
    "from sklearn.ensemble import RandomForestClassifier\n",
    "from sklearn.neighbors import KNeighborsClassifier\n",
    "from sklearn.model_selection import train_test_split\n",
    "from sklearn.metrics import accuracy_score"
   ]
  },
  {
   "cell_type": "code",
   "execution_count": 75,
   "id": "69c8b995",
   "metadata": {},
   "outputs": [],
   "source": [
    "data.drop(\"Sex\", axis = 1, inplace = True)"
   ]
  },
  {
   "cell_type": "markdown",
   "id": "05e10e4a",
   "metadata": {},
   "source": [
    "Сделаем разделение на обучающуся и тренировочную выборку"
   ]
  },
  {
   "cell_type": "code",
   "execution_count": 76,
   "id": "cb61d0f2",
   "metadata": {},
   "outputs": [],
   "source": [
    "train, test = train_test_split(data, train_size = 0.7, test_size = 0.3)"
   ]
  },
  {
   "cell_type": "code",
   "execution_count": 78,
   "id": "37ae926b",
   "metadata": {},
   "outputs": [],
   "source": [
    "train_x = train.drop([\"Survived\"], axis = 1)\n",
    "train_y = train[\"Survived\"]\n",
    "test_x = test.drop([\"Survived\"], axis = 1)\n",
    "test_y = test[\"Survived\"]"
   ]
  },
  {
   "cell_type": "markdown",
   "id": "18951f97",
   "metadata": {},
   "source": [
    "Построим логистическую регрессию и посчитаем вероятность выживания"
   ]
  },
  {
   "cell_type": "code",
   "execution_count": 79,
   "id": "11a332ab",
   "metadata": {},
   "outputs": [
    {
     "name": "stdout",
     "output_type": "stream",
     "text": [
      "Accuracy на обучении 0.7961476725521669\n",
      "Accuracy на тесте 0.832089552238806\n"
     ]
    }
   ],
   "source": [
    "logistic_regression_model = LogisticRegression(solver = 'liblinear')\n",
    "logistic_regression_model.fit(train_x, train_y)\n",
    "train_prediction = logistic_regression_model.predict(train_x)\n",
    "test_prediction = logistic_regression_model.predict(test_x)\n",
    "train_accuracy = accuracy_score(train_y, train_prediction)\n",
    "test_accuracy = accuracy_score(test_y, test_prediction)\n",
    "\n",
    "print(\"Accuracy на обучении\", train_accuracy)\n",
    "print(\"Accuracy на тесте\", test_accuracy)"
   ]
  },
  {
   "cell_type": "markdown",
   "id": "e743f95c",
   "metadata": {},
   "source": [
    "Посмотрим на корреляционную диаграмму"
   ]
  },
  {
   "cell_type": "code",
   "execution_count": 82,
   "id": "42939846",
   "metadata": {},
   "outputs": [
    {
     "data": {
      "text/html": [
       "<div>\n",
       "<style scoped>\n",
       "    .dataframe tbody tr th:only-of-type {\n",
       "        vertical-align: middle;\n",
       "    }\n",
       "\n",
       "    .dataframe tbody tr th {\n",
       "        vertical-align: top;\n",
       "    }\n",
       "\n",
       "    .dataframe thead th {\n",
       "        text-align: right;\n",
       "    }\n",
       "</style>\n",
       "<table border=\"1\" class=\"dataframe\">\n",
       "  <thead>\n",
       "    <tr style=\"text-align: right;\">\n",
       "      <th></th>\n",
       "      <th>Features</th>\n",
       "      <th>Coefficient Estimate</th>\n",
       "    </tr>\n",
       "  </thead>\n",
       "  <tbody>\n",
       "    <tr>\n",
       "      <th>0</th>\n",
       "      <td>Pclass</td>\n",
       "      <td>-0.719985</td>\n",
       "    </tr>\n",
       "    <tr>\n",
       "      <th>1</th>\n",
       "      <td>Age</td>\n",
       "      <td>-0.022327</td>\n",
       "    </tr>\n",
       "    <tr>\n",
       "      <th>2</th>\n",
       "      <td>Fare</td>\n",
       "      <td>0.000710</td>\n",
       "    </tr>\n",
       "    <tr>\n",
       "      <th>3</th>\n",
       "      <td>C</td>\n",
       "      <td>0.475403</td>\n",
       "    </tr>\n",
       "    <tr>\n",
       "      <th>4</th>\n",
       "      <td>Q</td>\n",
       "      <td>0.223905</td>\n",
       "    </tr>\n",
       "    <tr>\n",
       "      <th>5</th>\n",
       "      <td>Family</td>\n",
       "      <td>-0.108430</td>\n",
       "    </tr>\n",
       "    <tr>\n",
       "      <th>6</th>\n",
       "      <td>Child</td>\n",
       "      <td>1.725975</td>\n",
       "    </tr>\n",
       "    <tr>\n",
       "      <th>7</th>\n",
       "      <td>Female</td>\n",
       "      <td>2.589956</td>\n",
       "    </tr>\n",
       "    <tr>\n",
       "      <th>8</th>\n",
       "      <td>Class_1</td>\n",
       "      <td>0.667226</td>\n",
       "    </tr>\n",
       "    <tr>\n",
       "      <th>9</th>\n",
       "      <td>Class_2</td>\n",
       "      <td>0.547614</td>\n",
       "    </tr>\n",
       "  </tbody>\n",
       "</table>\n",
       "</div>"
      ],
      "text/plain": [
       "  Features  Coefficient Estimate\n",
       "0   Pclass             -0.719985\n",
       "1      Age             -0.022327\n",
       "2     Fare              0.000710\n",
       "3        C              0.475403\n",
       "4        Q              0.223905\n",
       "5   Family             -0.108430\n",
       "6    Child              1.725975\n",
       "7   Female              2.589956\n",
       "8  Class_1              0.667226\n",
       "9  Class_2              0.547614"
      ]
     },
     "execution_count": 82,
     "metadata": {},
     "output_type": "execute_result"
    }
   ],
   "source": [
    "coef_df = DataFrame(data.columns.delete(0))\n",
    "coef_df.columns = [\"Features\"]\n",
    "coef_df[\"Coefficient Estimate\"] = pd.Series(logistic_regression_model.coef_[0])\n",
    "\n",
    "coef_df"
   ]
  },
  {
   "cell_type": "markdown",
   "id": "8d87ff3b",
   "metadata": {},
   "source": [
    "Воспользуемся методом опорных векторов (SVM)"
   ]
  },
  {
   "cell_type": "code",
   "execution_count": 83,
   "id": "1eea8b25",
   "metadata": {},
   "outputs": [
    {
     "name": "stdout",
     "output_type": "stream",
     "text": [
      "Accuracy на тренировочной 0.9486356340288925\n",
      "Accuracy на тесте 0.7089552238805971\n"
     ]
    }
   ],
   "source": [
    "svm_model = SVC(C = 1.0, gamma = 0.5)\n",
    "svm_model. fit(train_x, train_y)\n",
    "train_prediction = svm_model.predict(train_x)\n",
    "test_prediction = svm_model.predict(test_x)\n",
    "train_accuracy = accuracy_score(train_y, train_prediction)\n",
    "test_accuracy = accuracy_score(test_y, test_prediction)\n",
    "\n",
    "print(\"Accuracy на тренировочной\", train_accuracy)\n",
    "print(\"Accuracy на тесте\", test_accuracy)"
   ]
  },
  {
   "cell_type": "markdown",
   "id": "9922b825",
   "metadata": {},
   "source": [
    "Метод случайного леса"
   ]
  },
  {
   "cell_type": "code",
   "execution_count": 84,
   "id": "a17cd033",
   "metadata": {},
   "outputs": [
    {
     "name": "stdout",
     "output_type": "stream",
     "text": [
      "Accuracy на тренировочной 0.9534510433386838\n",
      "Accuracy на тестовой 0.8432835820895522\n"
     ]
    }
   ],
   "source": [
    "random_forest_model = RandomForestClassifier(n_estimators = 10)\n",
    "random_forest_model.fit(train_x, train_y)\n",
    "\n",
    "train_prediction = random_forest_model.predict(train_x)\n",
    "test_prediction = random_forest_model.predict(test_x)\n",
    "train_accuracy = accuracy_score(train_y, train_prediction)\n",
    "test_accuracy = accuracy_score(test_y, test_prediction)\n",
    "\n",
    "print(\"Accuracy на тренировочной\", train_accuracy)\n",
    "print(\"Accuracy на тестовой\", test_accuracy)"
   ]
  },
  {
   "cell_type": "markdown",
   "id": "7b6f61f5",
   "metadata": {},
   "source": [
    "Метод ближайщих соседей (KNN)"
   ]
  },
  {
   "cell_type": "code",
   "execution_count": 87,
   "id": "a7108078",
   "metadata": {},
   "outputs": [
    {
     "name": "stdout",
     "output_type": "stream",
     "text": [
      "Accuracy на тренировочной 0.956661316211878\n",
      "Accuracy на тестовой 0.6940298507462687\n"
     ]
    }
   ],
   "source": [
    "knn_model = KNeighborsClassifier(n_neighbors = 1)\n",
    "knn_model.fit(train_x, train_y)\n",
    "train_prediction = knn_model.predict(train_x)\n",
    "test_prediction = knn_model.predict(test_x)\n",
    "train_accuracy = accuracy_score(train_y, train_prediction)\n",
    "test_accuracy = accuracy_score(test_y, test_prediction)\n",
    "\n",
    "print(\"Accuracy на тренировочной\", train_accuracy)\n",
    "print(\"Accuracy на тестовой\", test_accuracy)"
   ]
  },
  {
   "cell_type": "code",
   "execution_count": null,
   "id": "d6f635b5",
   "metadata": {},
   "outputs": [],
   "source": []
  }
 ],
 "metadata": {
  "kernelspec": {
   "display_name": "Python 3 (ipykernel)",
   "language": "python",
   "name": "python3"
  },
  "language_info": {
   "codemirror_mode": {
    "name": "ipython",
    "version": 3
   },
   "file_extension": ".py",
   "mimetype": "text/x-python",
   "name": "python",
   "nbconvert_exporter": "python",
   "pygments_lexer": "ipython3",
   "version": "3.8.12"
  }
 },
 "nbformat": 4,
 "nbformat_minor": 5
}
